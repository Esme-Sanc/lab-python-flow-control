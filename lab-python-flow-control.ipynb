{
 "cells": [
  {
   "cell_type": "markdown",
   "id": "d3bfc191-8885-42ee-b0a0-bbab867c6f9f",
   "metadata": {
    "tags": []
   },
   "source": [
    "# Lab | Flow Control"
   ]
  },
  {
   "cell_type": "markdown",
   "id": "3851fcd1-cf98-4653-9c89-e003b7ec9400",
   "metadata": {},
   "source": [
    "## Exercise: Managing Customer Orders Optimized\n",
    "\n",
    "In the last lab, you were starting an online store that sells various products. To ensure smooth operations, you developed a program that manages customer orders and inventory.\n",
    "\n",
    "You did so without using flow control. Let's go a step further and improve this code.\n",
    "\n",
    "Follow the steps below to complete the exercise:\n",
    "\n",
    "1. Look at your code from the lab data structures, and improve repeated code with loops.\n",
    "\n",
    "2. Instead of asking the user to input the name of three products that a customer wants to order, do the following:\n",
    "    \n",
    "    a. Prompt the user to enter the name of a product that a customer wants to order.\n",
    "    \n",
    "    b. Add the product name to the \"customer_orders\" set.\n",
    "    \n",
    "    c. Ask the user if they want to add another product (yes/no).\n",
    "    \n",
    "    d. Continue the loop until the user does not want to add another product.\n",
    "\n",
    "3. Instead of updating the inventory by subtracting 1 from the quantity of each product, only do it for  the products that were ordered (those in \"customer_orders\")."
   ]
  },
  {
   "cell_type": "code",
   "execution_count": 6,
   "id": "fee9e570",
   "metadata": {},
   "outputs": [],
   "source": [
    "products = []\n",
    "customer_orders = set() \n",
    "inventory ={\"manzanas\": 10, \"peras\": 8, \"platanos\": 15}"
   ]
  },
  {
   "cell_type": "code",
   "execution_count": 7,
   "id": "2eacd7ed",
   "metadata": {},
   "outputs": [
    {
     "name": "stdout",
     "output_type": "stream",
     "text": [
      "Productos pedidos: {'peras'}\n"
     ]
    }
   ],
   "source": [
    "while True:\n",
    "    producto = input(\"añade a la lista un producto\")\n",
    "    customer_orders.add(producto)\n",
    "    continuar = input(\"¿quieres añadir otro prodcuto? (S/N): \")\n",
    "    if continuar == \"N\":\n",
    "        break\n",
    "\n",
    "\n",
    "print(f\"Productos pedidos: {customer_orders}\")"
   ]
  },
  {
   "cell_type": "code",
   "execution_count": 10,
   "id": "edd26769",
   "metadata": {},
   "outputs": [],
   "source": [
    "for producto in customer_orders:\n",
    "    if producto in inventory:\n",
    "        inventory[producto] -= 1\n",
    "        if inventory[producto] < 0:\n",
    "            inventory[producto] = 0"
   ]
  }
 ],
 "metadata": {
  "kernelspec": {
   "display_name": "Python 3 (ipykernel)",
   "language": "python",
   "name": "python3"
  },
  "language_info": {
   "codemirror_mode": {
    "name": "ipython",
    "version": 3
   },
   "file_extension": ".py",
   "mimetype": "text/x-python",
   "name": "python",
   "nbconvert_exporter": "python",
   "pygments_lexer": "ipython3",
   "version": "3.12.4"
  }
 },
 "nbformat": 4,
 "nbformat_minor": 5
}
